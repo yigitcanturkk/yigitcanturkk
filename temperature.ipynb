{
  "nbformat": 4,
  "nbformat_minor": 0,
  "metadata": {
    "colab": {
      "provenance": [],
      "authorship_tag": "ABX9TyMoPl9R5aB20It6LiI+M22g",
      "include_colab_link": true
    },
    "kernelspec": {
      "name": "python3",
      "display_name": "Python 3"
    },
    "language_info": {
      "name": "python"
    }
  },
  "cells": [
    {
      "cell_type": "markdown",
      "metadata": {
        "id": "view-in-github",
        "colab_type": "text"
      },
      "source": [
        "<a href=\"https://colab.research.google.com/github/yigitcanturkk/yigitcanturkk/blob/main/temperature.ipynb\" target=\"_parent\"><img src=\"https://colab.research.google.com/assets/colab-badge.svg\" alt=\"Open In Colab\"/></a>"
      ]
    },
    {
      "cell_type": "markdown",
      "source": [
        "\n",
        "git init\n",
        "git add README.md\n",
        "git commit -m \"first commit\"\n",
        "git branch -M main\n",
        "git remote add origin https://github.com/yigitcanturkk/yigitcanturkk.git\n",
        "git push -u origin main"
      ],
      "metadata": {
        "id": "t5z8b_lsFcbP"
      }
    },
    {
      "cell_type": "code",
      "source": [
        "temperature= int(input(\"please enter the temperature: \"))\n",
        "if temperature <=20:\n",
        "\tprint(\"temperature is less than or equal to 20\")\n",
        "else:\n",
        "\tprint(\"temperature is greater than 20\")"
      ],
      "metadata": {
        "colab": {
          "base_uri": "https://localhost:8080/"
        },
        "id": "HbszSp4cJijP",
        "outputId": "6699d4f5-bbf9-4986-f154-e26bd21885ac"
      },
      "execution_count": 2,
      "outputs": [
        {
          "output_type": "stream",
          "name": "stdout",
          "text": [
            "please enter the temperature: 20\n",
            "temperature is less than or equal to 20\n"
          ]
        }
      ]
    },
    {
      "cell_type": "code",
      "source": [],
      "metadata": {
        "id": "WaX6dcVtGQ5K"
      },
      "execution_count": null,
      "outputs": []
    }
  ]
}